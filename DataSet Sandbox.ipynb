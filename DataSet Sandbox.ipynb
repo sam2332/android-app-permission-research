{
 "cells": [
  {
   "cell_type": "code",
   "execution_count": 45,
   "id": "6f324fff-7303-4207-b755-98763ef1b183",
   "metadata": {},
   "outputs": [],
   "source": [
    "from Libs.datasets import CSV_Dataset"
   ]
  },
  {
   "cell_type": "code",
   "execution_count": null,
   "id": "a324e636-6c96-4d6c-8e71-fc0938def762",
   "metadata": {},
   "outputs": [
    {
     "data": {
      "text/plain": [
       "[]"
      ]
     },
     "execution_count": 46,
     "metadata": {},
     "output_type": "execute_result"
    }
   ],
   "source": [
    "ds = CSV_Dataset('Android_Apk_Premissions_Threat')\n",
    "ds.dataset"
   ]
  },
  {
   "cell_type": "code",
   "execution_count": 47,
   "id": "a8e5aeea-5d84-4349-a756-e5db5add7fd7",
   "metadata": {},
   "outputs": [],
   "source": [
    "while True:\n",
    "    name = input('name>')\n",
    "    level = input('level>')\n",
    "    ds.append({'Permission_Name':name,'Threat_Level':level})"
   ]
  },
  {
   "cell_type": "code",
   "execution_count": 48,
   "id": "8fbda410-2c7b-439d-b5ff-324501d0fb7e",
   "metadata": {},
   "outputs": [],
   "source": [
    "ds.write()\n"
   ]
  },
  {
   "cell_type": "code",
   "execution_count": null,
   "id": "ec97d8a6-d67f-46a2-a779-41db20dcbc29",
   "metadata": {},
   "outputs": [],
   "source": []
  },
  {
   "cell_type": "code",
   "execution_count": null,
   "id": "52c2561a-8b25-4193-9505-9359c87ac4fe",
   "metadata": {},
   "outputs": [],
   "source": []
  },
  {
   "cell_type": "code",
   "execution_count": null,
   "id": "15b7c68a-86f1-4cbf-b1d0-31a705e20510",
   "metadata": {},
   "outputs": [],
   "source": []
  }
 ],
 "metadata": {
  "kernelspec": {
   "display_name": "Python 3 (ipykernel)",
   "language": "python",
   "name": "python3"
  },
  "language_info": {
   "codemirror_mode": {
    "name": "ipython",
    "version": 3
   },
   "file_extension": ".py",
   "mimetype": "text/x-python",
   "name": "python",
   "nbconvert_exporter": "python",
   "pygments_lexer": "ipython3",
   "version": "3.8.10"
  }
 },
 "nbformat": 4,
 "nbformat_minor": 5
}
