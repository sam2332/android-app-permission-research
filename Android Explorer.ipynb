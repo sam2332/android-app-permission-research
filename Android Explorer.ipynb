{
 "cells": [
  {
   "cell_type": "code",
   "execution_count": null,
   "id": "d067a487-e843-4976-83f2-105b7aa29d37",
   "metadata": {},
   "outputs": [],
   "source": [
    "import os\n",
    "import shutil\n",
    "from Libs.Shell import run_shell\n",
    "from pathlib import Path\n",
    "import xml.etree.ElementTree as ET\n",
    "from tqdm import tqdm\n",
    "from zipfile import ZipFile"
   ]
  },
  {
   "cell_type": "code",
   "execution_count": null,
   "id": "6526417e-6265-40c1-8845-006239a434f3",
   "metadata": {},
   "outputs": [],
   "source": [
    "run_shell(\"apktool empty-framework-dir --force\")"
   ]
  },
  {
   "cell_type": "code",
   "execution_count": null,
   "id": "5e6fa316-a3eb-4223-a9a5-ff9bbe69b20e",
   "metadata": {},
   "outputs": [],
   "source": [
    "run_shell('adb wait-for-device')\n",
    "run_shell('adb devices')"
   ]
  },
  {
   "cell_type": "code",
   "execution_count": null,
   "id": "331cdd6c-b47e-4fd6-9625-73f24fe14a9b",
   "metadata": {},
   "outputs": [],
   "source": [
    "#https://github.com/wtsxDev/android-security-list"
   ]
  },
  {
   "cell_type": "code",
   "execution_count": null,
   "id": "a56d6389-bfc6-4342-b7b4-cfaa57d94abb",
   "metadata": {},
   "outputs": [],
   "source": [
    "def getPackageApkPaths(package):\n",
    "    return [line.lstrip(\"package:\") for line in  run_shell(f\"adb shell pm path {package}\")]"
   ]
  },
  {
   "cell_type": "code",
   "execution_count": null,
   "id": "7e460245-acd2-4d76-8cbe-441ef8a836d8",
   "metadata": {},
   "outputs": [],
   "source": [
    "#Downloads dir\n",
    "#run_shell('adb shell ls /storage/emulated/0/Download')\n",
    "#run_shell('adb shell ls /sdcard/Download')"
   ]
  },
  {
   "cell_type": "code",
   "execution_count": null,
   "id": "70d2cd89-b7ec-46b0-850c-39c707c79fce",
   "metadata": {},
   "outputs": [],
   "source": []
  },
  {
   "cell_type": "code",
   "execution_count": null,
   "id": "a9e608a9-d481-4f00-9903-d402629e6cc0",
   "metadata": {},
   "outputs": [],
   "source": [
    "class Apk():\n",
    "    def __init__(self,package, file, log=None):\n",
    "        self.package = package\n",
    "        self.file = file\n",
    "        self.log = log\n",
    "        self.basename = file.split('/')[-1]\n",
    "        self.decompiled = False\n",
    "        self.downloaded  = Path(os.path.join(\n",
    "            'phone_sync_dir',\n",
    "            self.package,\n",
    "            Path(file).name\n",
    "        )).exists()\n",
    "        self.package_extraction_dir = os.path.join(\n",
    "            'phone_sync_dir',\n",
    "            self.package,\n",
    "            Path(file).stem\n",
    "        )\n",
    "        self.update_decompiled_flag()\n",
    "    def findString(self,string):\n",
    "        for file in Path(self.package_extraction_dir).glob('**/*'):\n",
    "            if file.is_file():\n",
    "                try:\n",
    "                    if string in file.read_text():\n",
    "                        yield file\n",
    "                except Exception as e:\n",
    "                    pass\n",
    "    def update_decompiled_flag(self):\n",
    "         self.decompiled = Path(self.package_extraction_dir).exists()\n",
    "\n",
    "    def decompile(self):\n",
    "        self.update_decompiled_flag()\n",
    "        if self.decompiled:\n",
    "            raise Exception(\"Already Decompiled\")\n",
    "        return run_shell(f'apktool d -o {self.package_extraction_dir} {self.file}')\n",
    "    \n",
    "    def make_ready_compile(self):\n",
    "        self.update_decompiled_flag()\n",
    "        if not self.decompiled:\n",
    "            raise Exception(\"Not Decompiled Yet\")\n",
    "        with open(os.path.join(self.package_extraction_dir,'AndroidManifest.xml'),'r')as f:\n",
    "            xml = ET.fromstring(f.read())\n",
    "            print(dir(xml))\n",
    "            \n",
    "    def download(self, local_path):\n",
    "        if not downloaded:\n",
    "            log = run_shell(f\"adb pull {self.file} {local_path}\")\n",
    "            self.file  = local_path\n",
    "            self.downloaded  = True\n",
    "\n",
    "    def recompile(self):\n",
    "        self.update_decompiled_flag()\n",
    "        if not self.decompiled:\n",
    "            raise Exception(\"Not Decompiled Yet\")\n",
    "        new_file = Path(self.file)\n",
    "        new_file = new_file.with_name(new_file.stem+'_recompiled'+new_file.suffix)\n",
    "        compile_log = run_shell(f'apktool b -o {new_file} {self.package_extraction_dir}')\n",
    "        return Apk(package=self.package, file=str(new_file), compile_log=compile_log)\n",
    "\n",
    "    def __repr__(self):\n",
    "        self.update_decompiled_flag()\n",
    "        dcs = ''\n",
    "        if self.decompiled:\n",
    "            dcs = \" Decompiled\"\n",
    "        return f\"[LocalApk{dcs} {self.basename}]\""
   ]
  },
  {
   "cell_type": "code",
   "execution_count": null,
   "id": "8333d060-d7ef-4de4-8dfe-a7e98e3346e2",
   "metadata": {},
   "outputs": [],
   "source": []
  },
  {
   "cell_type": "code",
   "execution_count": null,
   "id": "a0d9ef8b-0e0d-4d46-b118-f3acd9836414",
   "metadata": {},
   "outputs": [],
   "source": [
    "class ApkFindResult():\n",
    "    def __init__(self, apk, file):\n",
    "        self.apk = apk\n",
    "        self.file = file\n",
    "    def __repr__(self):\n",
    "        return f'{self.apk} - {self.file}'"
   ]
  },
  {
   "cell_type": "code",
   "execution_count": null,
   "id": "851b7003-03f8-463b-bc66-7a1c16f6d8c7",
   "metadata": {},
   "outputs": [],
   "source": [
    "class ApkCollection():\n",
    "    def __init__(self, apk_list):\n",
    "        self.apk_list = apk_list\n",
    "    def extend(self,other):\n",
    "        self.apk_list.extend(other)\n",
    "    def __iter__(self):\n",
    "        return iter(self.apk_list)\n",
    "    def findString(self, string):\n",
    "        for apk_file in self.apk_list:\n",
    "            for file in apk_file.findString(string):\n",
    "                yield ApkFindResult(apk=apk_file, file=file)"
   ]
  },
  {
   "cell_type": "code",
   "execution_count": null,
   "id": "138f4fdf-f193-4328-ba9c-7909038dde69",
   "metadata": {},
   "outputs": [],
   "source": [
    "class App():\n",
    "    def __init__(self, package):\n",
    "        self.package = package\n",
    "        self.package_cache_dir = os.path.join(\n",
    "            'phone_sync_dir',\n",
    "            self.package\n",
    "        )\n",
    "        self.package_main_activity = run_shell(f'adb shell cmd package resolve-activity {self.package}',extraction='.*name=(.*)')[0][0]\n",
    "        self.Apks = ApkCollection([])\n",
    "        self.getApks()\n",
    "        \n",
    "    def force_stop(self):\n",
    "        return run_shell(f\"adb shell am force-stop {self.package}\")\n",
    "    \n",
    "    def start_main_appliacation(self):\n",
    "        return run_shell(f'adb shell am start {self.package}/{self.package_main_activity}')\n",
    "    \n",
    "    def getApks(self):\n",
    "        self.Apks.extend([Apk(file=apk, package=self.package) for apk in getPackageApkPaths(self.package)])\n",
    "        \n",
    "    def decompileAllApks(self):\n",
    "        for file in self.Apks:\n",
    "            try:\n",
    "                file.decompile()\n",
    "            except Exception as e:\n",
    "                print(e)\n",
    "                \n",
    "    def downloadAllApks(self):\n",
    "        if not os.path.exists(self.package_cache_dir):\n",
    "            os.mkdir(self.package_cache_dir)\n",
    "          \n",
    "        for file in self.Apks:\n",
    "            local_path = os.path.join(self.package_cache_dir, file.basename)\n",
    "            file.download(local_path)\n",
    "        return ApkCollection(self.Apks)\n",
    "    \n",
    "    def uninstall_leaving_data(self):\n",
    "        return run_shell(f\"adb shell pm uninstall -k {self.package}\")\n",
    "    \n",
    "    def install(self):\n",
    "        if len(self.localApks)>1:\n",
    "            return self.install_apk_bundle()\n",
    "        else:\n",
    "            return run_shell(f\"adb install {self.localApks[0].file}\")\n",
    "    def install_apk_bundle(self):\n",
    "        self.uninstall_leaving_data()\n",
    "        tmp_files = []\n",
    "        tot_bytes = 0\n",
    "        \n",
    "        for file in self.localApks:\n",
    "            remote_filename = file.basename\n",
    "            remote_filepath = f'/data/local/tmp/{remote_filename}'\n",
    "            tmp_files.append(remote_filepath)\n",
    "            run_shell(f'adb push {file.file} {remote_filepath}')\n",
    "            tot_bytes += int(run_shell(f'adb shell du -b {remote_filepath}',split_other='\\t',splitlines=False)[0])\n",
    "\n",
    "        session_id = run_shell(f'adb shell pm install-create -S {tot_bytes}',extraction='.*\\[(.*)\\]')[0][0]\n",
    "        for index, file in enumerate(tmp_files):\n",
    "            file_size = int(run_shell(f'adb shell du -b {file}',split_other='\\t',splitlines=False)[0])\n",
    "            run_shell(f'adb shell pm install-write -S {file_size} {session_id} {index} {file}')\n",
    "        run_shell(f'adb shell pm install-commit {session_id}')\n",
    "\n",
    "        for file in tmp_files:\n",
    "            run_shell(f'adb shell rm {file}')\n",
    "\n",
    "        \n",
    "    def __repr__(self):\n",
    "        return f\"[App {self.package}]\\n\\tRemote:{', '.join(map(repr,self.remoteApks))}\\n\\tLocal:{', '.join(map(repr,self.localApks))}\""
   ]
  },
  {
   "cell_type": "code",
   "execution_count": null,
   "id": "e816a6e6-a2b9-4aea-831c-73412285b045",
   "metadata": {},
   "outputs": [],
   "source": [
    "def getAllAppPackageNames():\n",
    "    return run_shell('adb shell pm list packages -3 |cut -f 2 -d \":\"')"
   ]
  },
  {
   "cell_type": "code",
   "execution_count": 89,
   "id": "45c0f19e-ce3f-4421-8755-54343852c431",
   "metadata": {},
   "outputs": [],
   "source": [
    "def findPackageNameByPartial(part):\n",
    "    for line in getAllAppPackageNames():\n",
    "        if part in line:\n",
    "            return(line)"
   ]
  },
  {
   "cell_type": "code",
   "execution_count": null,
   "id": "4b16ab46-f807-4b96-9e69-e51a11f404fc",
   "metadata": {},
   "outputs": [],
   "source": [
    "#run_shell(\"adb shell ps -A\")"
   ]
  },
  {
   "cell_type": "raw",
   "id": "daa0383c-2e68-47c0-97a9-d45509655f52",
   "metadata": {},
   "source": [
    "all_packages =  getAllAppPackageNames()\n",
    "for index,package in enumerate(all_packages):\n",
    "    app = App(package)\n",
    "    apks = app.downloadAllApks()\n",
    "    print(f\"{index+1}/{len(all_packages)}\",end=\"\\t\")\n",
    "    print(app)\n",
    "    for apk in apks:\n",
    "        apk.decompile()\n",
    "    print()"
   ]
  },
  {
   "cell_type": "code",
   "execution_count": null,
   "id": "ca6fdf56-512a-4cc2-bfc0-23f1e6cf2a26",
   "metadata": {},
   "outputs": [],
   "source": [
    "app = App('droidhang.twgame.restaurant')"
   ]
  },
  {
   "cell_type": "code",
   "execution_count": null,
   "id": "21d81055-7063-4418-9998-7515218ff740",
   "metadata": {},
   "outputs": [],
   "source": [
    "app.start_main_appliacation()"
   ]
  },
  {
   "cell_type": "code",
   "execution_count": null,
   "id": "d26d995e-3489-4ac4-bc06-bc707080300d",
   "metadata": {},
   "outputs": [],
   "source": [
    "app.decompileAllApks()"
   ]
  },
  {
   "cell_type": "code",
   "execution_count": null,
   "id": "710a60d5-1f7f-4f30-b963-a69b51cc2ec8",
   "metadata": {},
   "outputs": [],
   "source": []
  },
  {
   "cell_type": "code",
   "execution_count": null,
   "id": "e5f54529-7d69-4d4b-8aa9-242e11f1ac72",
   "metadata": {},
   "outputs": [],
   "source": []
  },
  {
   "cell_type": "code",
   "execution_count": null,
   "id": "737a81d5-3a39-49cc-b9ad-1e337c90490f",
   "metadata": {},
   "outputs": [],
   "source": [
    "for result in app.Apks.findString(\"test\"):\n",
    "    print(result)"
   ]
  },
  {
   "cell_type": "code",
   "execution_count": null,
   "id": "6f0a8551-7d2a-464c-8db7-673000cf5379",
   "metadata": {},
   "outputs": [],
   "source": [
    "run_shell(f'adb shell dumpsys package | grep -Eo \"^[[:space:]]+[0-9a-f]+[[:space:]]{app.package}/[^[:space:]]+\" | grep -oE \"[^[:space:]]+$\"')"
   ]
  },
  {
   "cell_type": "code",
   "execution_count": null,
   "id": "4608c0f8-a31a-4d25-a6f5-5d2f9d5366cf",
   "metadata": {},
   "outputs": [],
   "source": []
  },
  {
   "cell_type": "code",
   "execution_count": null,
   "id": "b3d09243-bed9-4a88-a321-542cbefd483f",
   "metadata": {},
   "outputs": [],
   "source": [
    "compiled_apk=[apk.recompile() for apk in apks]\n"
   ]
  },
  {
   "cell_type": "code",
   "execution_count": null,
   "id": "f252bef7-3173-44ec-bba8-d5bf9be233f3",
   "metadata": {},
   "outputs": [],
   "source": [
    "type(compiled_apk)"
   ]
  },
  {
   "cell_type": "code",
   "execution_count": null,
   "id": "0cb02232-5f6d-4897-99ec-ed89b9bd22ea",
   "metadata": {},
   "outputs": [],
   "source": [
    "app.install()"
   ]
  },
  {
   "cell_type": "code",
   "execution_count": null,
   "id": "4682446e-e6b0-4bd5-ba74-89aa0a407b19",
   "metadata": {},
   "outputs": [],
   "source": [
    "compiled_apk.sign(\"Mykey.pem\")"
   ]
  },
  {
   "cell_type": "code",
   "execution_count": null,
   "id": "79deb198-1c01-43a9-b336-33e559f9961f",
   "metadata": {},
   "outputs": [],
   "source": [
    "compiled_apk.install()"
   ]
  },
  {
   "cell_type": "code",
   "execution_count": null,
   "id": "2e19cafe-c586-4e53-a2a3-26eeb316bd92",
   "metadata": {},
   "outputs": [],
   "source": [
    "apk.make_ready_compile()"
   ]
  },
  {
   "cell_type": "code",
   "execution_count": null,
   "id": "ddf6824e-a1d3-4015-bc26-196c2fd5fd5c",
   "metadata": {},
   "outputs": [],
   "source": [
    "app.package"
   ]
  },
  {
   "cell_type": "code",
   "execution_count": null,
   "id": "d5235d92-c978-41cc-887e-6771fb8f2514",
   "metadata": {},
   "outputs": [],
   "source": [
    "run_shell(f\"adb shell am start -n {app.package}/{app.main_activity}\")"
   ]
  },
  {
   "cell_type": "code",
   "execution_count": null,
   "id": "840e661d-0e8a-47f2-9007-d12c6bd261c6",
   "metadata": {},
   "outputs": [],
   "source": [
    "\n",
    "with open(os.path.join('phone_sync_dir/net.kairosoft.android.pool/base','AndroidManifest.xml'),'r')as f:\n",
    "    tree = ET.fromstring(f.read())\n",
    "    root = tree.get\n",
    "\n",
    "\n",
    "item = xml.find('application')\n",
    "for i in item.attrib:\n",
    "    if 'debuggable' in i:\n",
    "        item.attrib[i]=True\n",
    "\n",
    "with open(os.path.join('phone_sync_dir/net.kairosoft.android.pool/base','AndroidManifest.xml'),'w')as f:\n",
    "    tree."
   ]
  },
  {
   "cell_type": "code",
   "execution_count": null,
   "id": "b64e6af4-bc95-4f01-9665-5e03fd4a980d",
   "metadata": {},
   "outputs": [],
   "source": []
  },
  {
   "cell_type": "code",
   "execution_count": null,
   "id": "51d31c97-3703-4560-beb5-246ecc7dfd34",
   "metadata": {},
   "outputs": [],
   "source": []
  },
  {
   "cell_type": "code",
   "execution_count": null,
   "id": "57d48392-4fd4-44e6-bad3-443a1a31ba0b",
   "metadata": {},
   "outputs": [],
   "source": []
  },
  {
   "cell_type": "code",
   "execution_count": null,
   "id": "2eef1f12-d66f-4852-b38e-d71af5aa8677",
   "metadata": {},
   "outputs": [],
   "source": []
  },
  {
   "cell_type": "code",
   "execution_count": null,
   "id": "c17768f1-f9f6-4b66-808f-a3a9ebb712c7",
   "metadata": {},
   "outputs": [],
   "source": []
  }
 ],
 "metadata": {
  "kernelspec": {
   "display_name": "Python 3 (ipykernel)",
   "language": "python",
   "name": "python3"
  },
  "language_info": {
   "codemirror_mode": {
    "name": "ipython",
    "version": 3
   },
   "file_extension": ".py",
   "mimetype": "text/x-python",
   "name": "python",
   "nbconvert_exporter": "python",
   "pygments_lexer": "ipython3",
   "version": "3.8.10"
  }
 },
 "nbformat": 4,
 "nbformat_minor": 5
}
